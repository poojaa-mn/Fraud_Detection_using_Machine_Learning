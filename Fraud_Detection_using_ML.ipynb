{
  "nbformat": 4,
  "nbformat_minor": 0,
  "metadata": {
    "colab": {
      "name": "Fraud_Detection_using_ML.ipynb",
      "provenance": [],
      "collapsed_sections": []
    },
    "kernelspec": {
      "name": "python3",
      "display_name": "Python 3"
    }
  },
  "cells": [
    {
      "cell_type": "markdown",
      "metadata": {
        "id": "wXp85baWrfyJ",
        "colab_type": "text"
      },
      "source": [
        "\n",
        "*Import the libraries*\n"
      ]
    },
    {
      "cell_type": "code",
      "metadata": {
        "id": "t6AbiX3EZWBi",
        "colab_type": "code",
        "colab": {}
      },
      "source": [
        "import pandas as pd\n",
        "import matplotlib.pyplot as plt\n",
        "%matplotlib inline\n",
        "from sklearn.preprocessing import StandardScaler\n",
        "import seaborn as sns\n",
        "import numpy as np"
      ],
      "execution_count": 54,
      "outputs": []
    },
    {
      "cell_type": "code",
      "metadata": {
        "id": "VSLW1U1X1dmo",
        "colab_type": "code",
        "colab": {}
      },
      "source": [
        "import warnings\n",
        "warnings.filterwarnings('ignore')"
      ],
      "execution_count": 55,
      "outputs": []
    },
    {
      "cell_type": "markdown",
      "metadata": {
        "id": "bT3fa8GDsTFW",
        "colab_type": "text"
      },
      "source": [
        "**Read the data from csv file and understand the data**"
      ]
    },
    {
      "cell_type": "code",
      "metadata": {
        "id": "mCtkMKAUldAS",
        "colab_type": "code",
        "colab": {
          "base_uri": "https://localhost:8080/",
          "height": 224
        },
        "outputId": "9cfa6bfa-d0c4-4046-cb1c-86bff2b3b37b"
      },
      "source": [
        "data = pd.read_csv('creditcard.csv')\n",
        "data.head()\n"
      ],
      "execution_count": 56,
      "outputs": [
        {
          "output_type": "execute_result",
          "data": {
            "text/html": [
              "<div>\n",
              "<style scoped>\n",
              "    .dataframe tbody tr th:only-of-type {\n",
              "        vertical-align: middle;\n",
              "    }\n",
              "\n",
              "    .dataframe tbody tr th {\n",
              "        vertical-align: top;\n",
              "    }\n",
              "\n",
              "    .dataframe thead th {\n",
              "        text-align: right;\n",
              "    }\n",
              "</style>\n",
              "<table border=\"1\" class=\"dataframe\">\n",
              "  <thead>\n",
              "    <tr style=\"text-align: right;\">\n",
              "      <th></th>\n",
              "      <th>Time</th>\n",
              "      <th>V1</th>\n",
              "      <th>V2</th>\n",
              "      <th>V3</th>\n",
              "      <th>V4</th>\n",
              "      <th>V5</th>\n",
              "      <th>V6</th>\n",
              "      <th>V7</th>\n",
              "      <th>V8</th>\n",
              "      <th>V9</th>\n",
              "      <th>V10</th>\n",
              "      <th>V11</th>\n",
              "      <th>V12</th>\n",
              "      <th>V13</th>\n",
              "      <th>V14</th>\n",
              "      <th>V15</th>\n",
              "      <th>V16</th>\n",
              "      <th>V17</th>\n",
              "      <th>V18</th>\n",
              "      <th>V19</th>\n",
              "      <th>V20</th>\n",
              "      <th>V21</th>\n",
              "      <th>V22</th>\n",
              "      <th>V23</th>\n",
              "      <th>V24</th>\n",
              "      <th>V25</th>\n",
              "      <th>V26</th>\n",
              "      <th>V27</th>\n",
              "      <th>V28</th>\n",
              "      <th>Amount</th>\n",
              "      <th>Class</th>\n",
              "    </tr>\n",
              "  </thead>\n",
              "  <tbody>\n",
              "    <tr>\n",
              "      <th>0</th>\n",
              "      <td>0.0</td>\n",
              "      <td>-1.359807</td>\n",
              "      <td>-0.072781</td>\n",
              "      <td>2.536347</td>\n",
              "      <td>1.378155</td>\n",
              "      <td>-0.338321</td>\n",
              "      <td>0.462388</td>\n",
              "      <td>0.239599</td>\n",
              "      <td>0.098698</td>\n",
              "      <td>0.363787</td>\n",
              "      <td>0.090794</td>\n",
              "      <td>-0.551600</td>\n",
              "      <td>-0.617801</td>\n",
              "      <td>-0.991390</td>\n",
              "      <td>-0.311169</td>\n",
              "      <td>1.468177</td>\n",
              "      <td>-0.470401</td>\n",
              "      <td>0.207971</td>\n",
              "      <td>0.025791</td>\n",
              "      <td>0.403993</td>\n",
              "      <td>0.251412</td>\n",
              "      <td>-0.018307</td>\n",
              "      <td>0.277838</td>\n",
              "      <td>-0.110474</td>\n",
              "      <td>0.066928</td>\n",
              "      <td>0.128539</td>\n",
              "      <td>-0.189115</td>\n",
              "      <td>0.133558</td>\n",
              "      <td>-0.021053</td>\n",
              "      <td>149.62</td>\n",
              "      <td>0</td>\n",
              "    </tr>\n",
              "    <tr>\n",
              "      <th>1</th>\n",
              "      <td>0.0</td>\n",
              "      <td>1.191857</td>\n",
              "      <td>0.266151</td>\n",
              "      <td>0.166480</td>\n",
              "      <td>0.448154</td>\n",
              "      <td>0.060018</td>\n",
              "      <td>-0.082361</td>\n",
              "      <td>-0.078803</td>\n",
              "      <td>0.085102</td>\n",
              "      <td>-0.255425</td>\n",
              "      <td>-0.166974</td>\n",
              "      <td>1.612727</td>\n",
              "      <td>1.065235</td>\n",
              "      <td>0.489095</td>\n",
              "      <td>-0.143772</td>\n",
              "      <td>0.635558</td>\n",
              "      <td>0.463917</td>\n",
              "      <td>-0.114805</td>\n",
              "      <td>-0.183361</td>\n",
              "      <td>-0.145783</td>\n",
              "      <td>-0.069083</td>\n",
              "      <td>-0.225775</td>\n",
              "      <td>-0.638672</td>\n",
              "      <td>0.101288</td>\n",
              "      <td>-0.339846</td>\n",
              "      <td>0.167170</td>\n",
              "      <td>0.125895</td>\n",
              "      <td>-0.008983</td>\n",
              "      <td>0.014724</td>\n",
              "      <td>2.69</td>\n",
              "      <td>0</td>\n",
              "    </tr>\n",
              "    <tr>\n",
              "      <th>2</th>\n",
              "      <td>1.0</td>\n",
              "      <td>-1.358354</td>\n",
              "      <td>-1.340163</td>\n",
              "      <td>1.773209</td>\n",
              "      <td>0.379780</td>\n",
              "      <td>-0.503198</td>\n",
              "      <td>1.800499</td>\n",
              "      <td>0.791461</td>\n",
              "      <td>0.247676</td>\n",
              "      <td>-1.514654</td>\n",
              "      <td>0.207643</td>\n",
              "      <td>0.624501</td>\n",
              "      <td>0.066084</td>\n",
              "      <td>0.717293</td>\n",
              "      <td>-0.165946</td>\n",
              "      <td>2.345865</td>\n",
              "      <td>-2.890083</td>\n",
              "      <td>1.109969</td>\n",
              "      <td>-0.121359</td>\n",
              "      <td>-2.261857</td>\n",
              "      <td>0.524980</td>\n",
              "      <td>0.247998</td>\n",
              "      <td>0.771679</td>\n",
              "      <td>0.909412</td>\n",
              "      <td>-0.689281</td>\n",
              "      <td>-0.327642</td>\n",
              "      <td>-0.139097</td>\n",
              "      <td>-0.055353</td>\n",
              "      <td>-0.059752</td>\n",
              "      <td>378.66</td>\n",
              "      <td>0</td>\n",
              "    </tr>\n",
              "    <tr>\n",
              "      <th>3</th>\n",
              "      <td>1.0</td>\n",
              "      <td>-0.966272</td>\n",
              "      <td>-0.185226</td>\n",
              "      <td>1.792993</td>\n",
              "      <td>-0.863291</td>\n",
              "      <td>-0.010309</td>\n",
              "      <td>1.247203</td>\n",
              "      <td>0.237609</td>\n",
              "      <td>0.377436</td>\n",
              "      <td>-1.387024</td>\n",
              "      <td>-0.054952</td>\n",
              "      <td>-0.226487</td>\n",
              "      <td>0.178228</td>\n",
              "      <td>0.507757</td>\n",
              "      <td>-0.287924</td>\n",
              "      <td>-0.631418</td>\n",
              "      <td>-1.059647</td>\n",
              "      <td>-0.684093</td>\n",
              "      <td>1.965775</td>\n",
              "      <td>-1.232622</td>\n",
              "      <td>-0.208038</td>\n",
              "      <td>-0.108300</td>\n",
              "      <td>0.005274</td>\n",
              "      <td>-0.190321</td>\n",
              "      <td>-1.175575</td>\n",
              "      <td>0.647376</td>\n",
              "      <td>-0.221929</td>\n",
              "      <td>0.062723</td>\n",
              "      <td>0.061458</td>\n",
              "      <td>123.50</td>\n",
              "      <td>0</td>\n",
              "    </tr>\n",
              "    <tr>\n",
              "      <th>4</th>\n",
              "      <td>2.0</td>\n",
              "      <td>-1.158233</td>\n",
              "      <td>0.877737</td>\n",
              "      <td>1.548718</td>\n",
              "      <td>0.403034</td>\n",
              "      <td>-0.407193</td>\n",
              "      <td>0.095921</td>\n",
              "      <td>0.592941</td>\n",
              "      <td>-0.270533</td>\n",
              "      <td>0.817739</td>\n",
              "      <td>0.753074</td>\n",
              "      <td>-0.822843</td>\n",
              "      <td>0.538196</td>\n",
              "      <td>1.345852</td>\n",
              "      <td>-1.119670</td>\n",
              "      <td>0.175121</td>\n",
              "      <td>-0.451449</td>\n",
              "      <td>-0.237033</td>\n",
              "      <td>-0.038195</td>\n",
              "      <td>0.803487</td>\n",
              "      <td>0.408542</td>\n",
              "      <td>-0.009431</td>\n",
              "      <td>0.798278</td>\n",
              "      <td>-0.137458</td>\n",
              "      <td>0.141267</td>\n",
              "      <td>-0.206010</td>\n",
              "      <td>0.502292</td>\n",
              "      <td>0.219422</td>\n",
              "      <td>0.215153</td>\n",
              "      <td>69.99</td>\n",
              "      <td>0</td>\n",
              "    </tr>\n",
              "  </tbody>\n",
              "</table>\n",
              "</div>"
            ],
            "text/plain": [
              "   Time        V1        V2        V3  ...       V27       V28  Amount  Class\n",
              "0   0.0 -1.359807 -0.072781  2.536347  ...  0.133558 -0.021053  149.62      0\n",
              "1   0.0  1.191857  0.266151  0.166480  ... -0.008983  0.014724    2.69      0\n",
              "2   1.0 -1.358354 -1.340163  1.773209  ... -0.055353 -0.059752  378.66      0\n",
              "3   1.0 -0.966272 -0.185226  1.792993  ...  0.062723  0.061458  123.50      0\n",
              "4   2.0 -1.158233  0.877737  1.548718  ...  0.219422  0.215153   69.99      0\n",
              "\n",
              "[5 rows x 31 columns]"
            ]
          },
          "metadata": {
            "tags": []
          },
          "execution_count": 56
        }
      ]
    },
    {
      "cell_type": "code",
      "metadata": {
        "id": "5i0dHPVyl76I",
        "colab_type": "code",
        "colab": {
          "base_uri": "https://localhost:8080/",
          "height": 34
        },
        "outputId": "9f1a3280-3ad4-4a04-8a37-157a9a6b5c0a"
      },
      "source": [
        "print(data.shape[0],data.shape[1])"
      ],
      "execution_count": 57,
      "outputs": [
        {
          "output_type": "stream",
          "text": [
            "284807 31\n"
          ],
          "name": "stdout"
        }
      ]
    },
    {
      "cell_type": "code",
      "metadata": {
        "id": "wG6nVQFpl_HN",
        "colab_type": "code",
        "colab": {
          "base_uri": "https://localhost:8080/",
          "height": 102
        },
        "outputId": "33904fd6-bcbd-4bad-fef1-0d3849820897"
      },
      "source": [
        "data.columns\n"
      ],
      "execution_count": 58,
      "outputs": [
        {
          "output_type": "execute_result",
          "data": {
            "text/plain": [
              "Index(['Time', 'V1', 'V2', 'V3', 'V4', 'V5', 'V6', 'V7', 'V8', 'V9', 'V10',\n",
              "       'V11', 'V12', 'V13', 'V14', 'V15', 'V16', 'V17', 'V18', 'V19', 'V20',\n",
              "       'V21', 'V22', 'V23', 'V24', 'V25', 'V26', 'V27', 'V28', 'Amount',\n",
              "       'Class'],\n",
              "      dtype='object')"
            ]
          },
          "metadata": {
            "tags": []
          },
          "execution_count": 58
        }
      ]
    },
    {
      "cell_type": "code",
      "metadata": {
        "id": "lejrq9Lgl4ab",
        "colab_type": "code",
        "colab": {
          "base_uri": "https://localhost:8080/",
          "height": 663
        },
        "outputId": "701105ed-a18d-4b9e-9a1e-9868286fcc04"
      },
      "source": [
        "data.info()"
      ],
      "execution_count": 59,
      "outputs": [
        {
          "output_type": "stream",
          "text": [
            "<class 'pandas.core.frame.DataFrame'>\n",
            "RangeIndex: 284807 entries, 0 to 284806\n",
            "Data columns (total 31 columns):\n",
            " #   Column  Non-Null Count   Dtype  \n",
            "---  ------  --------------   -----  \n",
            " 0   Time    284807 non-null  float64\n",
            " 1   V1      284807 non-null  float64\n",
            " 2   V2      284807 non-null  float64\n",
            " 3   V3      284807 non-null  float64\n",
            " 4   V4      284807 non-null  float64\n",
            " 5   V5      284807 non-null  float64\n",
            " 6   V6      284807 non-null  float64\n",
            " 7   V7      284807 non-null  float64\n",
            " 8   V8      284807 non-null  float64\n",
            " 9   V9      284807 non-null  float64\n",
            " 10  V10     284807 non-null  float64\n",
            " 11  V11     284807 non-null  float64\n",
            " 12  V12     284807 non-null  float64\n",
            " 13  V13     284807 non-null  float64\n",
            " 14  V14     284807 non-null  float64\n",
            " 15  V15     284807 non-null  float64\n",
            " 16  V16     284807 non-null  float64\n",
            " 17  V17     284807 non-null  float64\n",
            " 18  V18     284807 non-null  float64\n",
            " 19  V19     284807 non-null  float64\n",
            " 20  V20     284807 non-null  float64\n",
            " 21  V21     284807 non-null  float64\n",
            " 22  V22     284807 non-null  float64\n",
            " 23  V23     284807 non-null  float64\n",
            " 24  V24     284807 non-null  float64\n",
            " 25  V25     284807 non-null  float64\n",
            " 26  V26     284807 non-null  float64\n",
            " 27  V27     284807 non-null  float64\n",
            " 28  V28     284807 non-null  float64\n",
            " 29  Amount  284807 non-null  float64\n",
            " 30  Class   284807 non-null  int64  \n",
            "dtypes: float64(30), int64(1)\n",
            "memory usage: 67.4 MB\n"
          ],
          "name": "stdout"
        }
      ]
    },
    {
      "cell_type": "markdown",
      "metadata": {
        "id": "uZzE2TU1u14S",
        "colab_type": "text"
      },
      "source": [
        "*Look for any null values*"
      ]
    },
    {
      "cell_type": "code",
      "metadata": {
        "id": "YneeaBLivCPx",
        "colab_type": "code",
        "colab": {
          "base_uri": "https://localhost:8080/",
          "height": 34
        },
        "outputId": "dd36e876-e709-4d94-9f3f-6114484b2501"
      },
      "source": [
        "data.isnull().sum().max()"
      ],
      "execution_count": 61,
      "outputs": [
        {
          "output_type": "execute_result",
          "data": {
            "text/plain": [
              "0"
            ]
          },
          "metadata": {
            "tags": []
          },
          "execution_count": 61
        }
      ]
    },
    {
      "cell_type": "markdown",
      "metadata": {
        "id": "xIgu4ayYs9L1",
        "colab_type": "text"
      },
      "source": [
        "*Understand the distribution of fraud and normal transactions*"
      ]
    },
    {
      "cell_type": "code",
      "metadata": {
        "id": "Zl_6aBcPmAuC",
        "colab_type": "code",
        "colab": {
          "base_uri": "https://localhost:8080/",
          "height": 51
        },
        "outputId": "5a5aee27-4768-40ff-f644-232793ed21ea"
      },
      "source": [
        "print('Normal Transactions count:',data['Class'].value_counts().values[0])\n",
        "print('Fraudulent Transactions count:',data['Class'].value_counts().values[1])"
      ],
      "execution_count": 62,
      "outputs": [
        {
          "output_type": "stream",
          "text": [
            "Normal Transactions count: 284315\n",
            "Fraudulent Transactions count: 492\n"
          ],
          "name": "stdout"
        }
      ]
    },
    {
      "cell_type": "code",
      "metadata": {
        "id": "cywMGX2GmH4R",
        "colab_type": "code",
        "colab": {
          "base_uri": "https://localhost:8080/",
          "height": 51
        },
        "outputId": "201ecdf6-6725-4bfd-86a4-93e69c4736b5"
      },
      "source": [
        "print('Normal transactions are',(data['Class'].value_counts().values[0]/data.shape[0])*100,'% of the dataset')\n",
        "print('Fraudulent transactions are',(data['Class'].value_counts().values[1]/data.shape[0])*100,'% of the dataset')"
      ],
      "execution_count": 63,
      "outputs": [
        {
          "output_type": "stream",
          "text": [
            "Normal transactions are 99.82725143693798 % of the dataset\n",
            "Fraudulent transactions are 0.1727485630620034 % of the dataset\n"
          ],
          "name": "stdout"
        }
      ]
    },
    {
      "cell_type": "markdown",
      "metadata": {
        "id": "QoH4jYWg6ZZ8",
        "colab_type": "text"
      },
      "source": [
        " **Exploratory analysis** "
      ]
    },
    {
      "cell_type": "markdown",
      "metadata": {
        "id": "OgvFfM9FtJuI",
        "colab_type": "text"
      },
      "source": [
        "*Visualization of Transaction class distribution*"
      ]
    },
    {
      "cell_type": "code",
      "metadata": {
        "id": "kABIjwW5mLxv",
        "colab_type": "code",
        "colab": {
          "base_uri": "https://localhost:8080/",
          "height": 312
        },
        "outputId": "9268e8c2-7c68-40f9-dd85-89163c7ec794"
      },
      "source": [
        "count_class=pd.value_counts(data['Class'],sort=True)\n",
        "count_class.plot(kind='bar',rot=0)\n",
        "plt.title('Transaction class distribution')\n",
        "LABELS=['Normal','Fraud']\n",
        "plt.xticks(range(2),LABELS)\n",
        "plt.xlabel('Class')\n",
        "plt.ylabel('Frequency')"
      ],
      "execution_count": 64,
      "outputs": [
        {
          "output_type": "execute_result",
          "data": {
            "text/plain": [
              "Text(0, 0.5, 'Frequency')"
            ]
          },
          "metadata": {
            "tags": []
          },
          "execution_count": 64
        },
        {
          "output_type": "display_data",
          "data": {
            "image/png": "[encoded data removed]",
            "text/plain": [
              "<Figure size 432x288 with 1 Axes>"
            ]
          },
          "metadata": {
            "tags": [],
            "needs_background": "light"
          }
        }
      ]
    },
    {
      "cell_type": "markdown",
      "metadata": {
        "id": "LvtVA5gAuBXH",
        "colab_type": "text"
      },
      "source": [
        "*Visualization of Amount and Time Distribution*"
      ]
    },
    {
      "cell_type": "code",
      "metadata": {
        "id": "uuI15Gf3mUXu",
        "colab_type": "code",
        "colab": {
          "base_uri": "https://localhost:8080/",
          "height": 268
        },
        "outputId": "06d54e36-8a87-4b29-f936-4b9bdb685f8a"
      },
      "source": [
        "fig, ax = plt.subplots(1, 2, figsize=(18,4))\n",
        "\n",
        "amount_val = data['Amount'].values\n",
        "time_val = data['Time'].values\n",
        "\n",
        "sns.distplot(amount_val, ax=ax[0], color='r')\n",
        "ax[0].set_title('Distribution of Transaction Amount', fontsize=14)\n",
        "ax[0].set_xlim([min(amount_val), max(amount_val)])\n",
        "\n",
        "sns.distplot(time_val, ax=ax[1], color='b')\n",
        "ax[1].set_title('Distribution of Transaction Time', fontsize=14)\n",
        "ax[1].set_xlim([min(time_val), max(time_val)])\n"
      ],
      "execution_count": 65,
      "outputs": [
        {
          "output_type": "execute_result",
          "data": {
            "text/plain": [
              "(0.0, 172792.0)"
            ]
          },
          "metadata": {
            "tags": []
          },
          "execution_count": 65
        },
        {
          "output_type": "display_data",
          "data": {
            "image/png": "[encoded data removed]",
            "text/plain": [
              "<Figure size 1296x288 with 2 Axes>"
            ]
          },
          "metadata": {
            "tags": [],
            "needs_background": "light"
          }
        }
      ]
    },
    {
      "cell_type": "markdown",
      "metadata": {
        "id": "-YmFtVUIuQ9d",
        "colab_type": "text"
      },
      "source": [
        "*Visualization of Amount and Time by class*"
      ]
    },
    {
      "cell_type": "code",
      "metadata": {
        "id": "5c4NCc6AmhF0",
        "colab_type": "code",
        "colab": {
          "base_uri": "https://localhost:8080/",
          "height": 441
        },
        "outputId": "f758d10e-4983-4008-8579-70bc55264cdb"
      },
      "source": [
        "sns.set_style(\"whitegrid\")\n",
        "sns.FacetGrid(data, hue=\"Class\", size = 6).map(plt.scatter, \"Time\", \"Amount\").add_legend()\n",
        "plt.show()"
      ],
      "execution_count": 66,
      "outputs": [
        {
          "output_type": "display_data",
          "data": {
            "image/png": "[encoded data removed]",
            "text/plain": [
              "<Figure size 474.375x432 with 1 Axes>"
            ]
          },
          "metadata": {
            "tags": []
          }
        }
      ]
    },
    {
      "cell_type": "markdown",
      "metadata": {
        "id": "LXKhiWh8wnqo",
        "colab_type": "text"
      },
      "source": [
        "From the above graphs,we can conclude that the fraud transactions are evenly distributed throughout time.\n",
        "Also,there are frauds only on the transactions whuch have transaction amount approximately less than 2500.Transactions which have transaction amount approximately above 2500 have no fraud."
      ]
    },
    {
      "cell_type": "markdown",
      "metadata": {
        "id": "wrq0n5yh09ng",
        "colab_type": "text"
      },
      "source": [
        "*Get sense of the fraud and normal transaction amount*"
      ]
    },
    {
      "cell_type": "code",
      "metadata": {
        "id": "wNRb346KmQQ8",
        "colab_type": "code",
        "colab": {
          "base_uri": "https://localhost:8080/",
          "height": 170
        },
        "outputId": "d77a2de9-01a2-4592-cdda-dc2862738425"
      },
      "source": [
        "fraud=data[data['Class']==1]\n",
        "normal=data[data['Class']==0]\n",
        "fraud.Amount.describe()"
      ],
      "execution_count": 67,
      "outputs": [
        {
          "output_type": "execute_result",
          "data": {
            "text/plain": [
              "count     492.000000\n",
              "mean      122.211321\n",
              "std       256.683288\n",
              "min         0.000000\n",
              "25%         1.000000\n",
              "50%         9.250000\n",
              "75%       105.890000\n",
              "max      2125.870000\n",
              "Name: Amount, dtype: float64"
            ]
          },
          "metadata": {
            "tags": []
          },
          "execution_count": 67
        }
      ]
    },
    {
      "cell_type": "code",
      "metadata": {
        "id": "d-uAIZ26mTXP",
        "colab_type": "code",
        "colab": {
          "base_uri": "https://localhost:8080/",
          "height": 170
        },
        "outputId": "734a73b6-bce2-451b-f5fd-674dc5d79253"
      },
      "source": [
        "normal.Amount.describe()"
      ],
      "execution_count": 68,
      "outputs": [
        {
          "output_type": "execute_result",
          "data": {
            "text/plain": [
              "count    284315.000000\n",
              "mean         88.291022\n",
              "std         250.105092\n",
              "min           0.000000\n",
              "25%           5.650000\n",
              "50%          22.000000\n",
              "75%          77.050000\n",
              "max       25691.160000\n",
              "Name: Amount, dtype: float64"
            ]
          },
          "metadata": {
            "tags": []
          },
          "execution_count": 68
        }
      ]
    },
    {
      "cell_type": "markdown",
      "metadata": {
        "id": "Pwtp2Xqz6v0G",
        "colab_type": "text"
      },
      "source": [
        "**Normalization of data**"
      ]
    },
    {
      "cell_type": "markdown",
      "metadata": {
        "id": "4SCq93f22wDe",
        "colab_type": "text"
      },
      "source": [
        "*Scaling is done to normalise the data within a particular range.*"
      ]
    },
    {
      "cell_type": "code",
      "metadata": {
        "id": "WOrN8vtXnHsV",
        "colab_type": "code",
        "colab": {}
      },
      "source": [
        "#Since most of our data has already been scaled we should scale the columns that are left to scale (Amount and Time)\n",
        "#RobustScaler reduces the influence of outliers\n",
        "from sklearn.preprocessing import StandardScaler,RobustScaler\n",
        "\n",
        "std_scaler = StandardScaler()\n",
        "rob_scaler = RobustScaler()\n",
        "\n",
        "data['scaled_amount'] = std_scaler.fit_transform(data['Amount'].values.reshape(-1,1))\n",
        "data['scaled_time'] = rob_scaler.fit_transform(data['Time'].values.reshape(-1,1))\n",
        "\n",
        "data.drop(['Time','Amount'], axis=1, inplace=True)"
      ],
      "execution_count": 69,
      "outputs": []
    },
    {
      "cell_type": "code",
      "metadata": {
        "id": "3MF0I2n5nhTD",
        "colab_type": "code",
        "colab": {}
      },
      "source": [
        "scaled_amount = data['scaled_amount']\n",
        "scaled_time = data['scaled_time']\n",
        "\n",
        "data.drop(['scaled_amount', 'scaled_time'], axis=1, inplace=True)\n",
        "data.insert(0, 'scaled_amount', scaled_amount)\n",
        "data.insert(1, 'scaled_time', scaled_time)\n"
      ],
      "execution_count": 70,
      "outputs": []
    },
    {
      "cell_type": "markdown",
      "metadata": {
        "id": "8n8WAQDg1P_y",
        "colab_type": "text"
      },
      "source": [
        "*Since most of the transactions are non-fraud,using this dataframe for the further analysis would lead to a lot of errors.Hence,we need to create a sub sample of data that has an equal amount of fraud and non-fraud cases.This is to avoid over-fitting.*\n"
      ]
    },
    {
      "cell_type": "code",
      "metadata": {
        "id": "dxmeH0e9oB7F",
        "colab_type": "code",
        "colab": {
          "base_uri": "https://localhost:8080/",
          "height": 224
        },
        "outputId": "f7a4ada2-1e94-4c84-a5d7-385bbb011183"
      },
      "source": [
        "data = data.sample(frac=1)\n",
        "\n",
        "# amount of fraud classes 492 rows.\n",
        "fraud_df = data.loc[data['Class'] == 1]\n",
        "non_fraud_df = data.loc[data['Class'] == 0][:492]\n",
        "normal_distributed_df = pd.concat([fraud_df, non_fraud_df])\n",
        "# Shuffle dataframe rows\n",
        "new_df = normal_distributed_df.sample(frac=1, random_state=42)\n",
        "new_df.head()"
      ],
      "execution_count": 71,
      "outputs": [
        {
          "output_type": "execute_result",
          "data": {
            "text/html": [
              "<div>\n",
              "<style scoped>\n",
              "    .dataframe tbody tr th:only-of-type {\n",
              "        vertical-align: middle;\n",
              "    }\n",
              "\n",
              "    .dataframe tbody tr th {\n",
              "        vertical-align: top;\n",
              "    }\n",
              "\n",
              "    .dataframe thead th {\n",
              "        text-align: right;\n",
              "    }\n",
              "</style>\n",
              "<table border=\"1\" class=\"dataframe\">\n",
              "  <thead>\n",
              "    <tr style=\"text-align: right;\">\n",
              "      <th></th>\n",
              "      <th>scaled_amount</th>\n",
              "      <th>scaled_time</th>\n",
              "      <th>V1</th>\n",
              "      <th>V2</th>\n",
              "      <th>V3</th>\n",
              "      <th>V4</th>\n",
              "      <th>V5</th>\n",
              "      <th>V6</th>\n",
              "      <th>V7</th>\n",
              "      <th>V8</th>\n",
              "      <th>V9</th>\n",
              "      <th>V10</th>\n",
              "      <th>V11</th>\n",
              "      <th>V12</th>\n",
              "      <th>V13</th>\n",
              "      <th>V14</th>\n",
              "      <th>V15</th>\n",
              "      <th>V16</th>\n",
              "      <th>V17</th>\n",
              "      <th>V18</th>\n",
              "      <th>V19</th>\n",
              "      <th>V20</th>\n",
              "      <th>V21</th>\n",
              "      <th>V22</th>\n",
              "      <th>V23</th>\n",
              "      <th>V24</th>\n",
              "      <th>V25</th>\n",
              "      <th>V26</th>\n",
              "      <th>V27</th>\n",
              "      <th>V28</th>\n",
              "      <th>Class</th>\n",
              "    </tr>\n",
              "  </thead>\n",
              "  <tbody>\n",
              "    <tr>\n",
              "      <th>9800</th>\n",
              "      <td>1.927639</td>\n",
              "      <td>-0.824634</td>\n",
              "      <td>-4.538653</td>\n",
              "      <td>-0.672919</td>\n",
              "      <td>0.934677</td>\n",
              "      <td>-2.588147</td>\n",
              "      <td>-3.465292</td>\n",
              "      <td>1.340718</td>\n",
              "      <td>-0.027617</td>\n",
              "      <td>-3.304568</td>\n",
              "      <td>4.851260</td>\n",
              "      <td>-2.879614</td>\n",
              "      <td>-0.292353</td>\n",
              "      <td>-0.527882</td>\n",
              "      <td>2.314787</td>\n",
              "      <td>0.074457</td>\n",
              "      <td>-2.119204</td>\n",
              "      <td>-0.490385</td>\n",
              "      <td>1.005881</td>\n",
              "      <td>0.261339</td>\n",
              "      <td>-0.182982</td>\n",
              "      <td>-2.621127</td>\n",
              "      <td>2.492449</td>\n",
              "      <td>-0.383959</td>\n",
              "      <td>-1.924213</td>\n",
              "      <td>0.620426</td>\n",
              "      <td>0.668034</td>\n",
              "      <td>-0.750027</td>\n",
              "      <td>1.194460</td>\n",
              "      <td>-1.043734</td>\n",
              "      <td>0</td>\n",
              "    </tr>\n",
              "    <tr>\n",
              "      <th>108708</th>\n",
              "      <td>1.351555</td>\n",
              "      <td>-0.160469</td>\n",
              "      <td>-3.170818</td>\n",
              "      <td>0.185735</td>\n",
              "      <td>-3.399852</td>\n",
              "      <td>3.761155</td>\n",
              "      <td>-2.148047</td>\n",
              "      <td>-1.598944</td>\n",
              "      <td>-2.519565</td>\n",
              "      <td>1.316215</td>\n",
              "      <td>-2.400106</td>\n",
              "      <td>-4.993417</td>\n",
              "      <td>4.447192</td>\n",
              "      <td>-5.293760</td>\n",
              "      <td>-1.419578</td>\n",
              "      <td>-6.425276</td>\n",
              "      <td>0.914083</td>\n",
              "      <td>-3.515197</td>\n",
              "      <td>-6.347453</td>\n",
              "      <td>-0.903512</td>\n",
              "      <td>1.191606</td>\n",
              "      <td>1.932254</td>\n",
              "      <td>1.092051</td>\n",
              "      <td>-0.041080</td>\n",
              "      <td>0.904395</td>\n",
              "      <td>0.180016</td>\n",
              "      <td>0.049970</td>\n",
              "      <td>-0.257100</td>\n",
              "      <td>0.859282</td>\n",
              "      <td>0.225924</td>\n",
              "      <td>1</td>\n",
              "    </tr>\n",
              "    <tr>\n",
              "      <th>144493</th>\n",
              "      <td>-0.333239</td>\n",
              "      <td>0.017270</td>\n",
              "      <td>-1.087213</td>\n",
              "      <td>1.379503</td>\n",
              "      <td>1.800401</td>\n",
              "      <td>0.775619</td>\n",
              "      <td>-0.205713</td>\n",
              "      <td>-0.090909</td>\n",
              "      <td>0.122422</td>\n",
              "      <td>0.576344</td>\n",
              "      <td>-0.775505</td>\n",
              "      <td>-0.505636</td>\n",
              "      <td>-0.225620</td>\n",
              "      <td>0.438092</td>\n",
              "      <td>0.682012</td>\n",
              "      <td>0.371380</td>\n",
              "      <td>1.558195</td>\n",
              "      <td>-0.214083</td>\n",
              "      <td>0.169081</td>\n",
              "      <td>-0.420325</td>\n",
              "      <td>0.124625</td>\n",
              "      <td>0.112924</td>\n",
              "      <td>-0.099608</td>\n",
              "      <td>-0.298793</td>\n",
              "      <td>-0.089791</td>\n",
              "      <td>0.056174</td>\n",
              "      <td>0.157685</td>\n",
              "      <td>-0.443143</td>\n",
              "      <td>0.235687</td>\n",
              "      <td>0.072925</td>\n",
              "      <td>0</td>\n",
              "    </tr>\n",
              "    <tr>\n",
              "      <th>189587</th>\n",
              "      <td>-0.081759</td>\n",
              "      <td>0.514327</td>\n",
              "      <td>0.909124</td>\n",
              "      <td>1.337658</td>\n",
              "      <td>-4.484728</td>\n",
              "      <td>3.245358</td>\n",
              "      <td>-0.417809</td>\n",
              "      <td>-0.762119</td>\n",
              "      <td>-2.506349</td>\n",
              "      <td>0.694164</td>\n",
              "      <td>-0.467556</td>\n",
              "      <td>-4.565260</td>\n",
              "      <td>3.612645</td>\n",
              "      <td>-3.171937</td>\n",
              "      <td>-0.400046</td>\n",
              "      <td>-8.569454</td>\n",
              "      <td>-1.614831</td>\n",
              "      <td>-2.388208</td>\n",
              "      <td>-2.577464</td>\n",
              "      <td>0.092679</td>\n",
              "      <td>0.098242</td>\n",
              "      <td>0.445573</td>\n",
              "      <td>0.586829</td>\n",
              "      <td>0.594078</td>\n",
              "      <td>-0.252120</td>\n",
              "      <td>0.325439</td>\n",
              "      <td>0.562766</td>\n",
              "      <td>-0.256278</td>\n",
              "      <td>0.652674</td>\n",
              "      <td>0.319879</td>\n",
              "      <td>1</td>\n",
              "    </tr>\n",
              "    <tr>\n",
              "      <th>45203</th>\n",
              "      <td>-0.349231</td>\n",
              "      <td>-0.498655</td>\n",
              "      <td>-2.524012</td>\n",
              "      <td>2.098152</td>\n",
              "      <td>-4.946075</td>\n",
              "      <td>6.456588</td>\n",
              "      <td>3.173921</td>\n",
              "      <td>-3.058806</td>\n",
              "      <td>-0.184710</td>\n",
              "      <td>-0.390420</td>\n",
              "      <td>-3.649812</td>\n",
              "      <td>-4.077585</td>\n",
              "      <td>4.389214</td>\n",
              "      <td>-5.849558</td>\n",
              "      <td>-0.750964</td>\n",
              "      <td>-11.583898</td>\n",
              "      <td>0.838750</td>\n",
              "      <td>-1.461029</td>\n",
              "      <td>0.635694</td>\n",
              "      <td>0.390150</td>\n",
              "      <td>-1.063028</td>\n",
              "      <td>-0.162797</td>\n",
              "      <td>0.027935</td>\n",
              "      <td>0.220366</td>\n",
              "      <td>0.976348</td>\n",
              "      <td>-0.290539</td>\n",
              "      <td>1.161002</td>\n",
              "      <td>0.663954</td>\n",
              "      <td>0.456023</td>\n",
              "      <td>-0.405682</td>\n",
              "      <td>1</td>\n",
              "    </tr>\n",
              "  </tbody>\n",
              "</table>\n",
              "</div>"
            ],
            "text/plain": [
              "        scaled_amount  scaled_time        V1  ...       V27       V28  Class\n",
              "9800         1.927639    -0.824634 -4.538653  ...  1.194460 -1.043734      0\n",
              "108708       1.351555    -0.160469 -3.170818  ...  0.859282  0.225924      1\n",
              "144493      -0.333239     0.017270 -1.087213  ...  0.235687  0.072925      0\n",
              "189587      -0.081759     0.514327  0.909124  ...  0.652674  0.319879      1\n",
              "45203       -0.349231    -0.498655 -2.524012  ...  0.456023 -0.405682      1\n",
              "\n",
              "[5 rows x 31 columns]"
            ]
          },
          "metadata": {
            "tags": []
          },
          "execution_count": 71
        }
      ]
    },
    {
      "cell_type": "markdown",
      "metadata": {
        "id": "oe_GCtIZ3hoh",
        "colab_type": "text"
      },
      "source": [
        "*Visualization of Transaction Class Distribution after creating the subsample*"
      ]
    },
    {
      "cell_type": "code",
      "metadata": {
        "id": "V2TWqJEIoS6j",
        "colab_type": "code",
        "colab": {
          "base_uri": "https://localhost:8080/",
          "height": 312
        },
        "outputId": "ee8bffae-09ff-4051-e742-3c4c607a3eaa"
      },
      "source": [
        "count_class=pd.value_counts(new_df['Class'],sort=True)\n",
        "count_class.plot(kind='bar',rot=0)\n",
        "plt.title('Equal class distribution')\n",
        "LABELS=['Normal','Fraud']\n",
        "plt.xticks(range(2),LABELS)\n",
        "plt.xlabel('Class')\n"
      ],
      "execution_count": 72,
      "outputs": [
        {
          "output_type": "execute_result",
          "data": {
            "text/plain": [
              "Text(0.5, 0, 'Class')"
            ]
          },
          "metadata": {
            "tags": []
          },
          "execution_count": 72
        },
        {
          "output_type": "display_data",
          "data": {
            "image/png": "[encoded data removed]",
            "text/plain": [
              "<Figure size 432x288 with 1 Axes>"
            ]
          },
          "metadata": {
            "tags": []
          }
        }
      ]
    },
    {
      "cell_type": "markdown",
      "metadata": {
        "id": "Xf5GsE_j64Sy",
        "colab_type": "text"
      },
      "source": [
        "**Visualization of correlations**"
      ]
    },
    {
      "cell_type": "markdown",
      "metadata": {
        "id": "VzV90kz130gI",
        "colab_type": "text"
      },
      "source": [
        "*Use of heatmap to find the correlations*"
      ]
    },
    {
      "cell_type": "code",
      "metadata": {
        "id": "Xtb9aQJBmq1-",
        "colab_type": "code",
        "colab": {
          "base_uri": "https://localhost:8080/",
          "height": 690
        },
        "outputId": "1aa43fa2-0b89-40c3-ec0f-7c16a35e2c00"
      },
      "source": [
        "plt.figure(figsize=(12,10))\n",
        "heat=sns.heatmap(data.corr())\n",
        "plt.title('Heatmap of Correlation')"
      ],
      "execution_count": 73,
      "outputs": [
        {
          "output_type": "execute_result",
          "data": {
            "text/plain": [
              "Text(0.5, 1.0, 'Heatmap of Correlation')"
            ]
          },
          "metadata": {
            "tags": []
          },
          "execution_count": 73
        },
        {
          "output_type": "display_data",
          "data": {
            "image/png": "[encoded data removed]",
            "text/plain": [
              "<Figure size 864x720 with 2 Axes>"
            ]
          },
          "metadata": {
            "tags": []
          }
        }
      ]
    },
    {
      "cell_type": "markdown",
      "metadata": {
        "id": "57o_ri2kvilC",
        "colab_type": "text"
      },
      "source": [
        "From the above heatmap,we can conclude that V10,V12,V14 and V17 are highly negatively correlated to class and V2,V4,V11 and V19 are highly positively correalted to class."
      ]
    },
    {
      "cell_type": "markdown",
      "metadata": {
        "id": "qFiJ0QpqYSGz",
        "colab_type": "text"
      },
      "source": [
        "*Visualization of correlations using boxplot*"
      ]
    },
    {
      "cell_type": "code",
      "metadata": {
        "id": "Ca5MK_yroZBg",
        "colab_type": "code",
        "colab": {
          "base_uri": "https://localhost:8080/",
          "height": 647
        },
        "outputId": "b6b65b3e-9869-4572-9b6d-e3965a9e6249"
      },
      "source": [
        "f,ax=plt.subplots(2,2,figsize=(24,14))\n",
        "f.suptitle('Features with high negative correlation',size=20)\n",
        "sns.boxplot(x='Class',y='V10',data=new_df,ax=ax[0,0])\n",
        "sns.boxplot(x='Class',y='V12',data=new_df,ax=ax[0,1])\n",
        "sns.boxplot(x='Class',y='V14',data=new_df,ax=ax[1,0])\n",
        "sns.boxplot(x='Class',y='V17',data=new_df,ax=ax[1,1])\n"
      ],
      "execution_count": 74,
      "outputs": [
        {
          "output_type": "execute_result",
          "data": {
            "text/plain": [
              "<matplotlib.axes._subplots.AxesSubplot at 0x7f8db1ba15c0>"
            ]
          },
          "metadata": {
            "tags": []
          },
          "execution_count": 74
        },
        {
          "output_type": "display_data",
          "data": {
            "image/png": "[encoded data removed]",
            "text/plain": [
              "<Figure size 1728x1008 with 4 Axes>"
            ]
          },
          "metadata": {
            "tags": []
          }
        }
      ]
    },
    {
      "cell_type": "code",
      "metadata": {
        "id": "ccXTK0SOpTwV",
        "colab_type": "code",
        "colab": {
          "base_uri": "https://localhost:8080/",
          "height": 647
        },
        "outputId": "942528b0-7085-40d0-d570-364a79d7c247"
      },
      "source": [
        "f,ax=plt.subplots(2,2,figsize=(24,14))\n",
        "f.suptitle('Features with high positive correlation',size=20)\n",
        "sns.boxplot(x='Class',y='V2',data=new_df,ax=ax[0,0])\n",
        "sns.boxplot(x='Class',y='V4',data=new_df,ax=ax[0,1])\n",
        "sns.boxplot(x='Class',y='V11',data=new_df,ax=ax[1,0])\n",
        "sns.boxplot(x='Class',y='V19',data=new_df,ax=ax[1,1])"
      ],
      "execution_count": 75,
      "outputs": [
        {
          "output_type": "execute_result",
          "data": {
            "text/plain": [
              "<matplotlib.axes._subplots.AxesSubplot at 0x7f8db19ec7f0>"
            ]
          },
          "metadata": {
            "tags": []
          },
          "execution_count": 75
        },
        {
          "output_type": "display_data",
          "data": {
            "image/png": "[encoded data removed]",
            "text/plain": [
              "<Figure size 1728x1008 with 4 Axes>"
            ]
          },
          "metadata": {
            "tags": []
          }
        }
      ]
    },
    {
      "cell_type": "markdown",
      "metadata": {
        "id": "PAL_j9aiDpNJ",
        "colab_type": "text"
      },
      "source": [
        "*Remove the extreme outliers from features that have a high correlation with our classes.*\n"
      ]
    },
    {
      "cell_type": "code",
      "metadata": {
        "id": "uH9uG9oIpVXE",
        "colab_type": "code",
        "colab": {}
      },
      "source": [
        "v14_fraud = new_df['V14'].loc[new_df['Class'] == 1].values\n",
        "q25, q75 = np.percentile(v14_fraud, 25), np.percentile(v14_fraud, 75)\n",
        "v14_iqr = q75 - q25\n",
        "v14_cut_off = v14_iqr * 1.5\n",
        "v14_lower, v14_upper = q25 - v14_cut_off, q75 + v14_cut_off\n",
        "new_df = new_df.drop(new_df[(new_df['V14'] > v14_upper) | (new_df['V14'] < v14_lower)].index)\n",
        "\n",
        "\n",
        "v12_fraud = new_df['V12'].loc[new_df['Class'] == 1].values\n",
        "q25, q75 = np.percentile(v12_fraud, 25), np.percentile(v12_fraud, 75)\n",
        "v12_iqr = q75 - q25\n",
        "\n",
        "v12_cut_off = v12_iqr * 1.5\n",
        "v12_lower, v12_upper = q25 - v12_cut_off, q75 + v12_cut_off\n",
        "new_df = new_df.drop(new_df[(new_df['V12'] > v12_upper) | (new_df['V12'] < v12_lower)].index)\n",
        "\n",
        "\n",
        "\n",
        "v10_fraud = new_df['V10'].loc[new_df['Class'] == 1].values\n",
        "q25, q75 = np.percentile(v10_fraud, 25), np.percentile(v10_fraud, 75)\n",
        "v10_iqr = q75 - q25\n",
        "\n",
        "v10_cut_off = v10_iqr * 1.5\n",
        "v10_lower, v10_upper = q25 - v10_cut_off, q75 + v10_cut_off\n",
        "\n",
        "new_df = new_df.drop(new_df[(new_df['V10'] > v10_upper) | (new_df['V10'] < v10_lower)].index)\n",
        "\n"
      ],
      "execution_count": 76,
      "outputs": []
    },
    {
      "cell_type": "markdown",
      "metadata": {
        "id": "iJN8wTk9eGT0",
        "colab_type": "text"
      },
      "source": [
        "*Classifier:*An algorithm that maps the input data to a specific category.Classification is a type of supervised learning.\n",
        "</br>The training data is used to make sure the machine recognizes patterns in the data and the test data is used only to access performance of model.\n"
      ]
    },
    {
      "cell_type": "code",
      "metadata": {
        "id": "Tghguoji1HFS",
        "colab_type": "code",
        "colab": {}
      },
      "source": [
        "X=new_df.drop('Class',axis=1) \n",
        "y=new_df['Class']"
      ],
      "execution_count": 77,
      "outputs": []
    },
    {
      "cell_type": "code",
      "metadata": {
        "id": "lYM1rnDD27xC",
        "colab_type": "code",
        "colab": {}
      },
      "source": [
        "from sklearn.model_selection import train_test_split\n",
        "\n",
        "X_train, X_test, y_train, y_test = train_test_split(X, y, test_size=0.2, random_state=42)\n",
        "X_train = X_train.values\n",
        "X_test = X_test.values\n",
        "y_train = y_train.values\n",
        "y_test = y_test.values\n"
      ],
      "execution_count": 78,
      "outputs": []
    },
    {
      "cell_type": "markdown",
      "metadata": {
        "id": "NFAeWMh-rz-4",
        "colab_type": "text"
      },
      "source": [
        "**Model Architecture**"
      ]
    },
    {
      "cell_type": "markdown",
      "metadata": {
        "id": "L7ObDHWZyvuO",
        "colab_type": "text"
      },
      "source": [
        "*Import the required classifiers*"
      ]
    },
    {
      "cell_type": "code",
      "metadata": {
        "id": "3p9FjWWVPYL2",
        "colab_type": "code",
        "colab": {}
      },
      "source": [
        "from sklearn.tree import DecisionTreeClassifier\n",
        "from sklearn.linear_model import LogisticRegression\n",
        "from sklearn.svm import SVC\n",
        "from sklearn.neighbors import KNeighborsClassifier\n",
        "from sklearn.ensemble import RandomForestClassifier"
      ],
      "execution_count": 80,
      "outputs": []
    },
    {
      "cell_type": "code",
      "metadata": {
        "id": "MSckjSJ9kOYx",
        "colab_type": "code",
        "colab": {
          "base_uri": "https://localhost:8080/",
          "height": 119
        },
        "outputId": "d96b65a0-97a6-49c7-d1d2-66ed0237e230"
      },
      "source": [
        "#Logistic Regression\n",
        "logmodel = LogisticRegression()\n",
        "logmodel.fit(X_train,y_train)\n",
        "#Support Vector Classifier\n",
        "svc=SVC()\n",
        "svc.fit(X_train,y_train)\n",
        "#K-nearest neighbors\n",
        "knn=KNeighborsClassifier()\n",
        "knn.fit(X_train,y_train)\n",
        "#Random Forest Classifier\n",
        "RDF_Classifier=RandomForestClassifier(random_state=0)\n",
        "RDF_Classifier.fit(X_train,y_train)\n",
        "#DecisionTreeClassifier\n",
        "DecisionTreeClassifier= DecisionTreeClassifier()\n",
        "DecisionTreeClassifier.fit(X_train,y_train)\n",
        "\n",
        "\n"
      ],
      "execution_count": 81,
      "outputs": [
        {
          "output_type": "execute_result",
          "data": {
            "text/plain": [
              "DecisionTreeClassifier(ccp_alpha=0.0, class_weight=None, criterion='gini',\n",
              "                       max_depth=None, max_features=None, max_leaf_nodes=None,\n",
              "                       min_impurity_decrease=0.0, min_impurity_split=None,\n",
              "                       min_samples_leaf=1, min_samples_split=2,\n",
              "                       min_weight_fraction_leaf=0.0, presort='deprecated',\n",
              "                       random_state=None, splitter='best')"
            ]
          },
          "metadata": {
            "tags": []
          },
          "execution_count": 81
        }
      ]
    },
    {
      "cell_type": "markdown",
      "metadata": {
        "id": "WIHkwVz1sBa9",
        "colab_type": "text"
      },
      "source": [
        "**Model Evaluation and Prediction**"
      ]
    },
    {
      "cell_type": "code",
      "metadata": {
        "id": "M99j_W0QxoWS",
        "colab_type": "code",
        "colab": {
          "base_uri": "https://localhost:8080/",
          "height": 204
        },
        "outputId": "4050294f-1530-4148-d967-4bcdd6a59510"
      },
      "source": [
        "models_list=[('Logistic Regression',logmodel),('SVC',svc),('KNeighborsClassifier',knn),('RFC',RDF_Classifier),('DecisionTreeClassifier',DecisionTreeClassifier)]\n",
        "models=[j for j in models_list]\n",
        "print()\n",
        "#print('===========================Model Evaluation Results================================')\n",
        "for i,v in models:\n",
        "      print('==========================={}=========================================='.format(i))\n",
        "      a=cross_val_score(v, X_train, y_train, cv=5)\n",
        "      print('Cross validation score=',a.mean())\n",
        "     "
      ],
      "execution_count": 82,
      "outputs": [
        {
          "output_type": "stream",
          "text": [
            "\n",
            "===========================Logistic Regression==========================================\n",
            "Cross validation score= 0.9339055420006972\n",
            "===========================SVC==========================================\n",
            "Cross validation score= 0.9299494597420704\n",
            "===========================KNeighborsClassifier==========================================\n",
            "Cross validation score= 0.9286336702683862\n",
            "===========================RFC==========================================\n",
            "Cross validation score= 0.9339229696758451\n",
            "===========================DecisionTreeClassifier==========================================\n",
            "Cross validation score= 0.8863889857093064\n"
          ],
          "name": "stdout"
        }
      ]
    },
    {
      "cell_type": "markdown",
      "metadata": {
        "id": "ZfKNjBa9wPQO",
        "colab_type": "text"
      },
      "source": [
        "*Test Models*"
      ]
    },
    {
      "cell_type": "code",
      "metadata": {
        "id": "knuigv1Cqb3V",
        "colab_type": "code",
        "colab": {
          "base_uri": "https://localhost:8080/",
          "height": 1000
        },
        "outputId": "b06b1e97-18d7-4fb8-ca22-acd08e66c1ba"
      },
      "source": [
        "\n",
        "models_list=[('Logistic Regression',logmodel),('SVC',svc),('KNeighborsClassifier',knn),('RFC',RDF_Classifier),('DecisionTreeClassifier',DecisionTreeClassifier)]\n",
        "models=[j for j in models_list]\n",
        "print()\n",
        "print('===========================Model Test Results================================')\n",
        "for i,v in models:\n",
        "      print('==========================={}=========================================='.format(i))\n",
        "      pred_test = v.predict(X_test)\n",
        "      print('Accuracy =',accuracy_score(y_test,pred_test))\n",
        "      print('Confusion Matrix')\n",
        "      print(confusion_matrix(y_test,pred_test))\n",
        "      print('Classification Report')\n",
        "      print(classification_report(y_test,pred_test))"
      ],
      "execution_count": 83,
      "outputs": [
        {
          "output_type": "stream",
          "text": [
            "\n",
            "===========================Model Test Results================================\n",
            "===========================Logistic Regression==========================================\n",
            "Accuracy = 0.9736842105263158\n",
            "Confusion Matrix\n",
            "[[88  2]\n",
            " [ 3 97]]\n",
            "Classification Report\n",
            "              precision    recall  f1-score   support\n",
            "\n",
            "           0       0.97      0.98      0.97        90\n",
            "           1       0.98      0.97      0.97       100\n",
            "\n",
            "    accuracy                           0.97       190\n",
            "   macro avg       0.97      0.97      0.97       190\n",
            "weighted avg       0.97      0.97      0.97       190\n",
            "\n",
            "===========================SVC==========================================\n",
            "Accuracy = 0.9578947368421052\n",
            "Confusion Matrix\n",
            "[[89  1]\n",
            " [ 7 93]]\n",
            "Classification Report\n",
            "              precision    recall  f1-score   support\n",
            "\n",
            "           0       0.93      0.99      0.96        90\n",
            "           1       0.99      0.93      0.96       100\n",
            "\n",
            "    accuracy                           0.96       190\n",
            "   macro avg       0.96      0.96      0.96       190\n",
            "weighted avg       0.96      0.96      0.96       190\n",
            "\n",
            "===========================KNeighborsClassifier==========================================\n",
            "Accuracy = 0.9526315789473684\n",
            "Confusion Matrix\n",
            "[[87  3]\n",
            " [ 6 94]]\n",
            "Classification Report\n",
            "              precision    recall  f1-score   support\n",
            "\n",
            "           0       0.94      0.97      0.95        90\n",
            "           1       0.97      0.94      0.95       100\n",
            "\n",
            "    accuracy                           0.95       190\n",
            "   macro avg       0.95      0.95      0.95       190\n",
            "weighted avg       0.95      0.95      0.95       190\n",
            "\n",
            "===========================RFC==========================================\n",
            "Accuracy = 0.9631578947368421\n",
            "Confusion Matrix\n",
            "[[88  2]\n",
            " [ 5 95]]\n",
            "Classification Report\n",
            "              precision    recall  f1-score   support\n",
            "\n",
            "           0       0.95      0.98      0.96        90\n",
            "           1       0.98      0.95      0.96       100\n",
            "\n",
            "    accuracy                           0.96       190\n",
            "   macro avg       0.96      0.96      0.96       190\n",
            "weighted avg       0.96      0.96      0.96       190\n",
            "\n",
            "===========================DecisionTreeClassifier==========================================\n",
            "Accuracy = 0.9473684210526315\n",
            "Confusion Matrix\n",
            "[[86  4]\n",
            " [ 6 94]]\n",
            "Classification Report\n",
            "              precision    recall  f1-score   support\n",
            "\n",
            "           0       0.93      0.96      0.95        90\n",
            "           1       0.96      0.94      0.95       100\n",
            "\n",
            "    accuracy                           0.95       190\n",
            "   macro avg       0.95      0.95      0.95       190\n",
            "weighted avg       0.95      0.95      0.95       190\n",
            "\n"
          ],
          "name": "stdout"
        }
      ]
    }
  ]
}